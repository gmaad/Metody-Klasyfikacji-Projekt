{
  "nbformat": 4,
  "nbformat_minor": 0,
  "metadata": {
    "colab": {
      "provenance": [],
      "authorship_tag": "ABX9TyPFcGkdooPx0iy7ycdEgXDt",
      "include_colab_link": true
    },
    "kernelspec": {
      "name": "python3",
      "display_name": "Python 3"
    },
    "language_info": {
      "name": "python"
    }
  },
  "cells": [
    {
      "cell_type": "markdown",
      "metadata": {
        "id": "view-in-github",
        "colab_type": "text"
      },
      "source": [
        "<a href=\"https://colab.research.google.com/github/gmaad/Metody-Klasyfikacji-Projekt/blob/main/SGD.ipynb\" target=\"_parent\"><img src=\"https://colab.research.google.com/assets/colab-badge.svg\" alt=\"Open In Colab\"/></a>"
      ]
    },
    {
      "cell_type": "code",
      "execution_count": null,
      "metadata": {
        "id": "hgMUiwqELueN"
      },
      "outputs": [],
      "source": [
        "# gradient descent - biblioteki\n",
        "import numpy as np\n",
        "from matplotlib import pyplot as plt\n",
        "from scipy import integrate\n",
        "import torch\n",
        "from torch.autograd import Variable\n",
        "import time\n",
        "import tensorflow as tf\n",
        "\n",
        "np.random.seed(0)\n",
        "device = 'cuda' if torch.cuda.is_available() else 'cpu'"
      ]
    },
    {
      "cell_type": "code",
      "source": [
        "def sgd(Z,r):\n",
        "\n",
        "  Z_tensor = torch.from_numpy(Z)\n",
        "  indexes_where_nan = torch.isnan(Z_tensor)\n",
        "  #torch.autograd.set_detect_anomaly(True)\n",
        "  W = torch.randint(0,3,(n,r), requires_grad=True, dtype=torch.float, device=device)\n",
        "  H = torch.randint(0,3,(r,p), requires_grad=True, dtype=torch.float, device=device)\n",
        "\n",
        "\n",
        "  lr = 0.0001\n",
        "  n_epochs = 500\n",
        "  loss_list = []\n",
        "\n",
        "  optimizer = torch.optim.SGD([W, H], lr=lr)\n",
        "\n",
        "  for epoch in range(n_epochs):\n",
        "      Z_pred = torch.matmul(W,H)\n",
        "      loss = torch.sum(torch.pow(Z_tensor[~indexes_where_nan]-Z_pred[~indexes_where_nan],2))\n",
        "      loss.backward()\n",
        "\n",
        "      if torch.isnan(W).any() or torch.isnan(H).any():\n",
        "        print(epoch)\n",
        "        break\n",
        "\n",
        "      optimizer.step()\n",
        "      optimizer.zero_grad()\n",
        "      loss_list.append(loss.item())\n",
        "\n",
        "  return(Z_pred.detach().numpy())"
      ],
      "metadata": {
        "id": "PmlrpIxwL0u4"
      },
      "execution_count": null,
      "outputs": []
    },
    {
      "cell_type": "code",
      "source": [
        "new_Z = sgd(Z,5)"
      ],
      "metadata": {
        "id": "ySyTJ46nL8Cr"
      },
      "execution_count": null,
      "outputs": []
    },
    {
      "cell_type": "code",
      "source": [],
      "metadata": {
        "id": "Fr-uyOPdL8Jd"
      },
      "execution_count": null,
      "outputs": []
    }
  ]
}