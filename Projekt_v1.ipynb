{
  "nbformat": 4,
  "nbformat_minor": 0,
  "metadata": {
    "colab": {
      "provenance": [],
      "authorship_tag": "ABX9TyO3nuy7NpCN15OOjwx3Qi4O",
      "include_colab_link": true
    },
    "kernelspec": {
      "name": "python3",
      "display_name": "Python 3"
    },
    "language_info": {
      "name": "python"
    }
  },
  "cells": [
    {
      "cell_type": "markdown",
      "metadata": {
        "id": "view-in-github",
        "colab_type": "text"
      },
      "source": [
        "<a href=\"https://colab.research.google.com/github/gmaad/Metody-Klasyfikacji-Projekt/blob/main/Projekt_v1.ipynb\" target=\"_parent\"><img src=\"https://colab.research.google.com/assets/colab-badge.svg\" alt=\"Open In Colab\"/></a>"
      ]
    },
    {
      "cell_type": "code",
      "execution_count": 3,
      "metadata": {
        "id": "zq1RF3__ySLb"
      },
      "outputs": [],
      "source": [
        "# biblioteki\n",
        "import pandas as pd\n",
        "import random\n",
        "import numpy as np\n",
        "\n",
        "np.random.seed(0)"
      ]
    },
    {
      "cell_type": "markdown",
      "source": [
        "Wczytanie i obróbka danych:\n"
      ],
      "metadata": {
        "id": "uQybJRQvyYaf"
      }
    },
    {
      "cell_type": "code",
      "source": [
        "# read in the data\n",
        "csvFile = pd.read_csv('ratings.csv')\n",
        "df = csvFile.drop('timestamp', axis=1) #100836 rows\n",
        "\n",
        "# didide randomly into two sets\n",
        "df = df.sample(frac=1)\n",
        "n = len(df)\n",
        "size_of_train_data = 0.9\n",
        "n_train = round(size_of_train_data*n)\n",
        "\n",
        "train_data = df[:n_train]\n",
        "test_data = df[n_train:]\n",
        "\n",
        "# save to files\n",
        "train_data.to_csv('train_ratings.csv', index=False)\n",
        "test_data.to_csv('test_ratings.csv', index=False)"
      ],
      "metadata": {
        "id": "eGCjM855ydKm"
      },
      "execution_count": 4,
      "outputs": []
    },
    {
      "cell_type": "code",
      "source": [
        "# zapisanie train set jako macierz\n",
        "# n - number of users, d - number of movies\n",
        "data = pd.read_csv('train_ratings.csv')\n",
        "users = set(data['userId'])\n",
        "movies = set(data['movieId'])\n",
        "n = max(users)\n",
        "p = max(movies)\n",
        "\n",
        "Z = np.empty((n,p,)) # dane bez oceny maja rating NAN\n",
        "Z[:] = np.nan\n",
        "\n",
        "for i in range(0, len(data)):\n",
        "  Z[data['userId'][i]-1,data['movieId'][i]-1] = data['rating'][i] # indeksy przesuwam o 1\n",
        "\n",
        "df = pd.DataFrame(Z) # macierz Z znowu do df\n"
      ],
      "metadata": {
        "id": "VrlPlj4Eyr_Q"
      },
      "execution_count": 5,
      "outputs": []
    },
    {
      "cell_type": "markdown",
      "source": [
        "Uzupełnianie brakujących wartości:"
      ],
      "metadata": {
        "id": "TnMty0-Czb-5"
      }
    },
    {
      "cell_type": "code",
      "source": [
        "mean_imputation = df.copy().T\n",
        "median_imputation = df.copy().T\n",
        "mode_imputation = df.copy().T\n",
        "\n",
        "for i in range(0,n):\n",
        "  mean_imputation[i] = mean_imputation[i].fillna(mean_imputation[i].median())\n",
        "  median_imputation[i] = median_imputation[i].fillna(median_imputation[i].median())\n",
        "  mode_imputation[i] = mode_imputation[i].fillna(mode_imputation[i].mode().iloc[0])"
      ],
      "metadata": {
        "id": "US0uCALUzbU6"
      },
      "execution_count": 6,
      "outputs": []
    },
    {
      "cell_type": "markdown",
      "source": [
        "Testowanie, która z metod uzupełniania jest najlepsza:\n",
        "\n"
      ],
      "metadata": {
        "id": "kjVaYc-B52uk"
      }
    },
    {
      "cell_type": "code",
      "source": [
        "\n"
      ],
      "metadata": {
        "id": "hX3aZx2U59WF"
      },
      "execution_count": null,
      "outputs": []
    }
  ]
}